{
 "cells": [
  {
   "cell_type": "code",
   "execution_count": null,
   "id": "0a4cc191",
   "metadata": {
    "vscode": {
     "languageId": "plaintext"
    }
   },
   "outputs": [],
   "source": [
    "import pandas as pd\n",
    "import numpy as np\n",
    "\n",
    "# Reproducibility\n",
    "np.random.seed(42)\n",
    "\n",
    "# Samples\n",
    "n_samples = 500\n",
    "\n",
    "# Generate features\n",
    "age = np.random.normal(43, 12, n_samples).astype(int)\n",
    "age = np.clip(age, 18, 80)\n",
    "\n",
    "sex = np.random.choice([\"Male\", \"Female\"], size=n_samples, p=[0.45, 0.55])\n",
    "\n",
    "bmi = np.random.normal(27.5, 5, n_samples)\n",
    "bmi = np.clip(bmi, 15, 45)\n",
    "\n",
    "waist = np.random.normal(90, 12, n_samples)\n",
    "waist = np.clip(waist, 60, 130)\n",
    "\n",
    "family_history = np.random.choice([\"Yes\", \"No\"], size=n_samples, p=[0.3, 0.7])\n",
    "\n",
    "fbs = np.random.normal(110, 25, n_samples)\n",
    "fbs = np.clip(fbs, 70, 200)\n",
    "\n",
    "hypertension = np.random.choice([\"Yes\", \"No\"], size=n_samples, p=[0.25, 0.75])\n",
    "\n",
    "activity = np.random.choice([\"Low\", \"Moderate\", \"High\"], size=n_samples, p=[0.5, 0.35, 0.15])\n",
    "\n",
    "smoker = np.random.choice([\"Yes\", \"No\"], size=n_samples, p=[0.1, 0.9])\n",
    "\n",
    "# Target outcome (300 positives, 200 negatives)\n",
    "outcome = np.zeros(n_samples)\n",
    "outcome[:300] = 1\n",
    "np.random.shuffle(outcome)\n",
    "\n",
    "# Build DataFrame\n",
    "df = pd.DataFrame({\n",
    "    \"Age\": age,\n",
    "    \"Sex\": sex,\n",
    "    \"BMI\": bmi.round(1),\n",
    "    \"Waist_Circumference_cm\": waist.round(1),\n",
    "    \"Family_History\": family_history,\n",
    "    \"Fasting_Blood_Sugar_mg_dL\": fbs.round(1),\n",
    "    \"Hypertension\": hypertension,\n",
    "    \"Physical_Activity\": activity,\n",
    "    \"Smoker\": smoker,\n",
    "    \"Outcome\": outcome.astype(int)\n",
    "})\n",
    "\n",
    "# Save as CSV in Colab\n",
    "df.to_csv(\"diabetes_nigeria.csv\", index=False)\n",
    "\n",
    "# Preview\n",
    "print(df['Outcome'].value_counts())\n",
    "df.head()\n"
   ]
  }
 ],
 "metadata": {
  "language_info": {
   "name": "python"
  }
 },
 "nbformat": 4,
 "nbformat_minor": 5
}
