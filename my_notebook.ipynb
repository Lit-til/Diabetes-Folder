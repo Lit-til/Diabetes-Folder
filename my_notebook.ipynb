{
 "cells": [
  {
   "cell_type": "code",
   "execution_count": null,
   "id": "f39d3c6f",
   "metadata": {},
   "outputs": [],
   "source": [
    "print('Hello Diabetes App')"
   ]
  }
 ],
 "metadata": {},
 "nbformat": 4,
 "nbformat_minor": 5
}
